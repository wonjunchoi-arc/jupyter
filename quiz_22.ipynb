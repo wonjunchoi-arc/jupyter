{
 "cells": [
  {
   "cell_type": "code",
   "execution_count": 7,
   "outputs": [],
   "source": [
    "import pandas as pd\n",
    "import numpy as np\n",
    "\n",
    "'''\n",
    "22. 다음 객체에서 키값 A와 중복된 값이 제거된 1,2,3,4,5,6,7 이 출려되는 코드를 작성\n",
    "23. 다음 객체에서 행의 각 요소에서 행의 평균을 뺀 값을 출력\n",
    "24. 다음 객체에서 가장 작은 합계를 가진 숫자열의 열을 출력(최대값은 max)\n",
    "25. 다음 객체에서 중복된 값이 없는 유니크한 열의 카운트 출력(중복되지 않은 행은 몇 개..)\n",
    "26. 객체의 각 행에 대해 세번째 NaN 값이 들어 있는 열을 찾으시오. 일련의 열 레이블을 반환해야 합니다.\n",
    " 답은 e, c, d, h, d 입니다.\n",
    "27. 다음 객체에서 grps 에서 a, b, c 별로 가장 큰 값을 찾으시오.\n",
    " 출력 결과는\n",
    "  grps\n",
    "   a    409\n",
    "   b    156\n",
    "   c    345\n",
    " 이렇게 나옵니다.\n",
    "28 다음 객체를 list 로 변환하시오\n",
    "29 다음 객체를 dictionary 로 변환하시오\n",
    "30 다음 객체를 customer_id 를 인덱스로하고 product_code 를 컬럼으로, purchare_amount 를 값으로, 재구성하시오\n",
    "31 30번 객체를\n",
    "    customer_id 와 grade 를 인덱스로하고 product_code 를 컬럼으로,\n",
    "    purchare_amount 를 값으로, 재구성하시오\n",
    "\n",
    "\n",
    "'''"
   ],
   "metadata": {
    "collapsed": false,
    "pycharm": {
     "name": "#%%\n"
    }
   }
  },
  {
   "cell_type": "code",
   "execution_count": 9,
   "metadata": {},
   "outputs": [
    {
     "name": "stdout",
     "output_type": "stream",
     "text": [
      "<class 'pandas.core.series.Series'>\n",
      "   A\n",
      "0  1\n",
      "1  2\n",
      "3  3\n",
      "4  4\n",
      "5  5\n",
      "8  6\n",
      "9  7\n"
     ]
    }
   ],
   "source": [
    "# 22. 다음 객체에서 키값 A와 중복된 값이 제거된 1,2,3,4,5,6,7 이 출려되는 코드를 작성\n",
    "df = pd.DataFrame({'A': [1, 2, 2, 3, 4, 5, 5, 5, 6, 7, 7]})\n",
    "\n",
    "print(type(df['A']))#<class 'pandas.core.series.Series'>\n",
    "# print(type(df.loc[df[['A']]]))\n",
    "df = df.drop_duplicates()\n",
    "print(df)"
   ]
  },
  {
   "cell_type": "code",
   "execution_count": 11,
   "metadata": {},
   "outputs": [
    {
     "name": "stdout",
     "output_type": "stream",
     "text": [
      "          0         1         2\n",
      "0  0.086888  0.181672  0.171390\n",
      "1  0.695332  0.352533  0.893181\n",
      "2  0.809686  0.848474  0.268380\n",
      "3  0.672753  0.595599  0.471962\n",
      "4  0.237722  0.461158  0.061892\n",
      "          0         1         2\n",
      "0 -0.059762  0.035022  0.024740\n",
      "1  0.048317 -0.294483  0.246166\n",
      "2  0.167506  0.206294 -0.373800\n",
      "3  0.092649  0.015494 -0.108142\n",
      "4 -0.015869  0.207567 -0.191699\n"
     ]
    }
   ],
   "source": [
    "# 23. 다음 객체에서 행의 각 요소에서 행의 평균을 뺀 값을 출력\n",
    "df = pd.DataFrame(np.random.random(size=(5, 3)))\n",
    "print(df)\n",
    "df=df.sub(df.mean(axis=1),axis=0)\n",
    "print(df)"
   ]
  },
  {
   "cell_type": "code",
   "execution_count": 13,
   "metadata": {},
   "outputs": [
    {
     "name": "stdout",
     "output_type": "stream",
     "text": [
      "d\n"
     ]
    }
   ],
   "source": [
    "# 24. 다음 객체에서 가장 작은 합계를 가진 숫자열의 열을 출력(최대값은 max)\n",
    "df = pd.DataFrame(np.random.random(size=(5, 10)), columns=list('abcdefghij'))\n",
    "df=df.sum().idxmin()\n",
    "# df =df.sum().idxmax()\n",
    "print(df)"
   ]
  },
  {
   "cell_type": "code",
   "execution_count": 14,
   "metadata": {},
   "outputs": [
    {
     "name": "stdout",
     "output_type": "stream",
     "text": [
      "   0  1  2\n",
      "0  0  1  0\n",
      "1  0  0  1\n",
      "2  1  0  1\n",
      "3  1  1  1\n"
     ]
    }
   ],
   "source": [
    "# 25. 다음 객체에서 중복된 값이 없는 유니크한 열의 카운트 출력(중복되지 않은 행은 몇 개..)\n",
    "df = pd.DataFrame(np.random.randint(0, 2, size=(10, 3)))\n",
    "len(df) - df.duplicated(keep=False).sum()\n",
    "print(df.drop_duplicates(keep=False))"
   ]
  },
  {
   "cell_type": "code",
   "execution_count": 15,
   "metadata": {},
   "outputs": [
    {
     "name": "stdout",
     "output_type": "stream",
     "text": [
      "0    e\n",
      "1    c\n",
      "2    d\n",
      "3    h\n",
      "4    d\n",
      "dtype: object\n"
     ]
    }
   ],
   "source": [
    "# 26. 객체의 각 행에 대해 세번째 NaN 값이 들어 있는 열을 찾으시오. 일련의 열 레이블을 반환해야 합니다.\n",
    "# 답은 e, c, d, h, d 입니다.\n",
    "nan = np.nan\n",
    "data = [[0.04,  nan,  nan, 0.25,  nan, 0.43, 0.71, 0.51,  nan,  nan],\n",
    "        [ nan,  nan,  nan, 0.04, 0.76,  nan,  nan, 0.67, 0.76, 0.16],\n",
    "        [ nan,  nan, 0.5 ,  nan, 0.31, 0.4 ,  nan,  nan, 0.24, 0.01],\n",
    "        [0.49,  nan,  nan, 0.62, 0.73, 0.26, 0.85,  nan,  nan,  nan],\n",
    "        [ nan,  nan, 0.41,  nan, 0.05,  nan, 0.61,  nan, 0.48, 0.68]]\n",
    "columns = list('abcdefghij')\n",
    "df = pd.DataFrame(data, columns=columns)\n",
    "\n",
    "df = (df.isnull().cumsum(axis=1) == 3).idxmax(axis=1)\n",
    "print(df)"
   ]
  },
  {
   "cell_type": "code",
   "execution_count": 20,
   "metadata": {},
   "outputs": [
    {
     "name": "stdout",
     "output_type": "stream",
     "text": [
      "grps\n",
      "a    345\n",
      "b     57\n",
      "c    235\n",
      "Name: vals, dtype: int64\n"
     ]
    },
    {
     "data": {
      "text/plain": "'\\ngrps    \\na     1     345\\n      7      52\\n      0      12\\nb     12     57\\n      8      54\\n      4      45\\nc     10    235\\n      14     87\\n      9      23\\nName: vals, dtype: int64\\n'"
     },
     "execution_count": 20,
     "metadata": {},
     "output_type": "execute_result"
    }
   ],
   "source": [
    "# 27. 다음 객체에서 grps 에서 a, b, c 별로 가장 큰 값을 찾으시오.\n",
    "# 출력 결과는 \n",
    "#  grps\n",
    "#   a    409\n",
    "#   b    156\n",
    "#   c    345\n",
    "# 이렇게 나옵니다.\n",
    "df = pd.DataFrame({'grps': list('aaabbcaabcccbbc'), \n",
    "                   'vals': [12,345,3,1,45,14,4,52,54,23,235,21,57,3,87]})\n",
    "# print(type(df.groupby('grps')))#<class 'pandas.core.groupby.generic.DataFrameGroupBy'>\n",
    "# print(type(df.groupby('grps')['vals']))#<class 'pandas.core.groupby.generic.SeriesGroupBy'>\n",
    "df=df.groupby('grps')['vals'].max()\n",
    "print(df)\n",
    "'''\n",
    "grps\n",
    "a     1     345\n",
    "      7      52\n",
    "      0      12\n",
    "b     12     57\n",
    "      8      54\n",
    "      4      45\n",
    "c     10    235\n",
    "      14     87\n",
    "      9      23\n",
    "Name: vals, dtype: int64\n",
    "'''"
   ]
  },
  {
   "cell_type": "code",
   "execution_count": 23,
   "metadata": {},
   "outputs": [
    {
     "name": "stdout",
     "output_type": "stream",
     "text": [
      "<class 'numpy.ndarray'>\n",
      "<class 'list'>\n"
     ]
    },
    {
     "data": {
      "text/plain": "[[1, 4], [2, 5], [3, 6]]"
     },
     "execution_count": 23,
     "metadata": {},
     "output_type": "execute_result"
    }
   ],
   "source": [
    "# 28 다음 객체를 list 로 변환하시오\n",
    "df = pd.DataFrame({'A':[1,2,3], 'B':[4,5,6]})\n",
    "arr = df.values\n",
    "print(type(arr))#<class 'numpy.ndarray'>\n",
    "ls = arr.tolist()\n",
    "print(type(ls))\n",
    "df.values.tolist()\n"
   ]
  },
  {
   "cell_type": "code",
   "execution_count": 3,
   "metadata": {},
   "outputs": [],
   "source": [
    "# 29 다음 객체를 dictionary 로 변환하시오\n",
    "df = pd.DataFrame({'A':[1,2,3], 'B':[4,5,6]})\n",
    "print(df.to_dict())"
   ]
  },
  {
   "cell_type": "code",
   "execution_count": 2,
   "metadata": {},
   "outputs": [
    {
     "ename": "NameError",
     "evalue": "name 'pd' is not defined",
     "output_type": "error",
     "traceback": [
      "\u001B[1;31m---------------------------------------------------------------------------\u001B[0m",
      "\u001B[1;31mNameError\u001B[0m                                 Traceback (most recent call last)",
      "\u001B[1;32m<ipython-input-2-80f949322a65>\u001B[0m in \u001B[0;36m<module>\u001B[1;34m\u001B[0m\n\u001B[0;32m      1\u001B[0m \u001B[1;31m# 30 다음 객체를 customer_id 를 인덱스로하고 product_code 를 컬럼으로, purchare_amount 를 값으로, 재구성하시오\u001B[0m\u001B[1;33m\u001B[0m\u001B[1;33m\u001B[0m\u001B[1;33m\u001B[0m\u001B[0m\n\u001B[1;32m----> 2\u001B[1;33m df = pd.DataFrame({\"customer_id\":['kim','lee','park','song','yoon','kang','tak','ryu','jang'],\n\u001B[0m\u001B[0;32m      3\u001B[0m                \u001B[1;34m\"product_code\"\u001B[0m\u001B[1;33m:\u001B[0m\u001B[1;33m[\u001B[0m\u001B[1;34m'com'\u001B[0m\u001B[1;33m,\u001B[0m\u001B[1;34m'phone'\u001B[0m\u001B[1;33m,\u001B[0m\u001B[1;34m'tv'\u001B[0m\u001B[1;33m,\u001B[0m\u001B[1;34m'com'\u001B[0m\u001B[1;33m,\u001B[0m\u001B[1;34m'phone'\u001B[0m\u001B[1;33m,\u001B[0m\u001B[1;34m'tv'\u001B[0m\u001B[1;33m,\u001B[0m\u001B[1;34m'com'\u001B[0m\u001B[1;33m,\u001B[0m\u001B[1;34m'phone'\u001B[0m\u001B[1;33m,\u001B[0m\u001B[1;34m'tv'\u001B[0m\u001B[1;33m]\u001B[0m\u001B[1;33m,\u001B[0m\u001B[1;33m\u001B[0m\u001B[1;33m\u001B[0m\u001B[0m\n\u001B[0;32m      4\u001B[0m                \u001B[1;34m\"grade\"\u001B[0m\u001B[1;33m:\u001B[0m\u001B[1;33m[\u001B[0m\u001B[1;34m'A'\u001B[0m\u001B[1;33m,\u001B[0m\u001B[1;34m'A'\u001B[0m\u001B[1;33m,\u001B[0m\u001B[1;34m'A'\u001B[0m\u001B[1;33m,\u001B[0m\u001B[1;34m'A'\u001B[0m\u001B[1;33m,\u001B[0m\u001B[1;34m'A'\u001B[0m\u001B[1;33m,\u001B[0m\u001B[1;34m'A'\u001B[0m\u001B[1;33m,\u001B[0m\u001B[1;34m'B'\u001B[0m\u001B[1;33m,\u001B[0m\u001B[1;34m'B'\u001B[0m\u001B[1;33m,\u001B[0m\u001B[1;34m'B'\u001B[0m\u001B[1;33m]\u001B[0m\u001B[1;33m,\u001B[0m\u001B[1;33m\u001B[0m\u001B[1;33m\u001B[0m\u001B[0m\n\u001B[0;32m      5\u001B[0m                \"purchase_amount\":[30,10,0,40,15,30,0,0,10]})\n",
      "\u001B[1;31mNameError\u001B[0m: name 'pd' is not defined"
     ]
    }
   ],
   "source": [
    "# 30 다음 객체를 customer_id 를 인덱스로하고 product_code 를 컬럼으로, purchare_amount 를 값으로, 재구성하시오\n",
    "df = pd.DataFrame({\"customer_id\":['kim','lee','park','song','yoon','kang','tak','ryu','jang'],\n",
    "               \"product_code\":['com','phone','tv','com','phone','tv','com','phone','tv'],\n",
    "               \"grade\":['A','A','A','A','A','A','B','B','B'],\n",
    "               \"purchase_amount\":[30,10,0,40,15,30,0,0,10]})\n",
    "df"
   ]
  },
  {
   "cell_type": "code",
   "execution_count": null,
   "metadata": {},
   "outputs": [],
   "source": [
    "# 31 30번 객체를 \n",
    "#    customer_id 와 grade 를 인덱스로하고 product_code 를 컬럼으로, \n",
    "#    purchare_amount 를 값으로, 재구성하시오"
   ]
  }
 ],
 "metadata": {
  "kernelspec": {
   "name": "pycharm-eb4704eb",
   "language": "python",
   "display_name": "PyCharm (new)"
  },
  "language_info": {
   "codemirror_mode": {
    "name": "ipython",
    "version": 3
   },
   "file_extension": ".py",
   "mimetype": "text/x-python",
   "name": "python",
   "nbconvert_exporter": "python",
   "pygments_lexer": "ipython3",
   "version": "3.8.5"
  }
 },
 "nbformat": 4,
 "nbformat_minor": 4
}